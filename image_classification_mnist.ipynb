{
 "cells": [
  {
   "cell_type": "markdown",
   "id": "256e21b0",
   "metadata": {},
   "source": [
    "# A Multi-Layer Perceptron model to detect numbers from MNIST dataset."
   ]
  },
  {
   "cell_type": "code",
   "execution_count": 1,
   "id": "efb3c165",
   "metadata": {},
   "outputs": [],
   "source": [
    "import tensorflow as tf\n",
    "from tensorflow import keras\n",
    "import numpy as np\n",
    "import matplotlib.pyplot as plt\n",
    "import cv2\n",
    "np.random.seed(42)                          # This allows us to reproduce the results from our script\n",
    "from keras.models import Sequential             \n",
    "from keras.layers import Dense, Activation\n",
    "from keras.optimizers import Adam, SGD\n",
    "from keras.utils import np_utils"
   ]
  },
  {
   "cell_type": "code",
   "execution_count": 2,
   "id": "e7478e75",
   "metadata": {},
   "outputs": [],
   "source": [
    "(X_train, y_train), (X_test, y_test) = tf.keras.datasets.mnist.load_data()\n",
    "# plt.imshow(X_train[0], cmap='gray')\n",
    "# plt.show()\n",
    "X_train = X_train.reshape((X_train.shape[0], -1))\n",
    "X_test = X_test.reshape((X_test.shape[0], -1))\n",
    "X_train.astype('float32')\n",
    "X_test.astype('float32')\n",
    "\n",
    "# Data Normalization\n",
    "X_train, X_test = X_train/255, X_test/255\n",
    "\n",
    "#One-hot encoding\n",
    "y_train = np_utils.to_categorical(y_train)\n",
    "y_test = np_utils.to_categorical(y_test)\n",
    "\n",
    "num_of_classes = y_train.shape[1]\n",
    "num_of_pixels = X_train.shape[1]"
   ]
  },
  {
   "cell_type": "code",
   "execution_count": 3,
   "id": "1be90de6",
   "metadata": {},
   "outputs": [
    {
     "name": "stdout",
     "output_type": "stream",
     "text": [
      "Model: \"sequential\"\n",
      "_________________________________________________________________\n",
      " Layer (type)                Output Shape              Param #   \n",
      "=================================================================\n",
      " dense (Dense)               (None, 256)               200960    \n",
      "                                                                 \n",
      " dense_1 (Dense)             (None, 64)                16448     \n",
      "                                                                 \n",
      " dense_2 (Dense)             (None, 10)                650       \n",
      "                                                                 \n",
      "=================================================================\n",
      "Total params: 218,058\n",
      "Trainable params: 218,058\n",
      "Non-trainable params: 0\n",
      "_________________________________________________________________\n"
     ]
    }
   ],
   "source": [
    "def mnist_model():\n",
    "    model = Sequential()\n",
    "    model.add(Dense(256, input_dim=num_of_pixels, activation='relu'))\n",
    "    model.add(Dense(64, activation='relu'))\n",
    "    model.add(Dense(num_of_classes, activation='softmax'))\n",
    "\n",
    "    return model\n",
    "model = mnist_model()\n",
    "model.summary()\n",
    "\n",
    "opt = Adam()\n",
    "model.compile(loss='categorical_crossentropy', optimizer=opt, metrics=['accuracy'])"
   ]
  },
  {
   "cell_type": "code",
   "execution_count": 4,
   "id": "4d1daba5",
   "metadata": {},
   "outputs": [
    {
     "name": "stdout",
     "output_type": "stream",
     "text": [
      "Epoch 1/5\n",
      "1875/1875 [==============================] - 8s 4ms/step - loss: 0.2190 - accuracy: 0.9363\n",
      "Epoch 2/5\n",
      "1875/1875 [==============================] - 7s 4ms/step - loss: 0.0891 - accuracy: 0.9717\n",
      "Epoch 3/5\n",
      "1875/1875 [==============================] - 7s 4ms/step - loss: 0.0600 - accuracy: 0.9809\n",
      "Epoch 4/5\n",
      "1875/1875 [==============================] - 7s 4ms/step - loss: 0.0445 - accuracy: 0.9858\n",
      "Epoch 5/5\n",
      "1875/1875 [==============================] - 7s 4ms/step - loss: 0.0356 - accuracy: 0.9885\n",
      "313/313 [==============================] - 1s 3ms/step - loss: 0.0761 - accuracy: 0.9768\n",
      "Test error: 2.319997549057007\n"
     ]
    }
   ],
   "source": [
    "# Fit the model to training data.\n",
    "model.fit(X_train, y_train, epochs=5, batch_size=32, verbose=1)\n",
    "\n",
    "#Evaluate model performance on test data\n",
    "scores = model.evaluate(X_test, y_test, verbose=1)\n",
    "print(\"Test error:\", 100-100*scores[1])"
   ]
  },
  {
   "cell_type": "code",
   "execution_count": 8,
   "id": "29cb3c9d",
   "metadata": {},
   "outputs": [
    {
     "name": "stdout",
     "output_type": "stream",
     "text": [
      "Enter an integer between 0 and 9999. Enter 10000 to exit:1221\n",
      "1/1 [==============================] - 0s 26ms/step\n",
      "Predicted output: 5\n",
      "Actual output: 5\n",
      "Enter an integer between 0 and 9999. Enter 10000 to exit:86\n",
      "1/1 [==============================] - 0s 50ms/step\n",
      "Predicted output: 7\n",
      "Actual output: 7\n",
      "Enter an integer between 0 and 9999. Enter 10000 to exit:9963\n",
      "1/1 [==============================] - 0s 50ms/step\n",
      "Predicted output: 7\n",
      "Actual output: 7\n",
      "Enter an integer between 0 and 9999. Enter 10000 to exit:4978\n",
      "1/1 [==============================] - 0s 49ms/step\n",
      "Predicted output: 8\n",
      "Actual output: 8\n",
      "Enter an integer between 0 and 9999. Enter 10000 to exit:1012\n",
      "1/1 [==============================] - 0s 50ms/step\n",
      "Predicted output: 7\n",
      "Actual output: 7\n",
      "Enter an integer between 0 and 9999. Enter 10000 to exit:9998\n",
      "1/1 [==============================] - 0s 50ms/step\n",
      "Predicted output: 5\n",
      "Actual output: 5\n",
      "Enter an integer between 0 and 9999. Enter 10000 to exit:363\n",
      "1/1 [==============================] - 0s 51ms/step\n",
      "Predicted output: 2\n",
      "Actual output: 2\n",
      "Enter an integer between 0 and 9999. Enter 10000 to exit:10000\n"
     ]
    }
   ],
   "source": [
    "while True:\n",
    "    test_index = int(input(\"Enter an integer between 0 and 9999. Enter 10000 to exit:\"))\n",
    "    if test_index == 10000:\n",
    "        break\n",
    "    pred = model.predict(X_test[test_index].reshape(1,-1))\n",
    "    print(\"Predicted output:\", np.argmax(pred))\n",
    "    print(\"Actual output:\", np.argmax(y_test[test_index]))\n",
    "    cv2.imshow(\"Image from test data\", X_test[test_index].reshape(28,28))\n",
    "    cv2.waitKey(0)\n",
    "    cv2.destroyAllWindows()"
   ]
  },
  {
   "cell_type": "code",
   "execution_count": null,
   "id": "48782029",
   "metadata": {},
   "outputs": [],
   "source": []
  }
 ],
 "metadata": {
  "kernelspec": {
   "display_name": "Python 3 (ipykernel)",
   "language": "python",
   "name": "python3"
  },
  "language_info": {
   "codemirror_mode": {
    "name": "ipython",
    "version": 3
   },
   "file_extension": ".py",
   "mimetype": "text/x-python",
   "name": "python",
   "nbconvert_exporter": "python",
   "pygments_lexer": "ipython3",
   "version": "3.10.10"
  }
 },
 "nbformat": 4,
 "nbformat_minor": 5
}
